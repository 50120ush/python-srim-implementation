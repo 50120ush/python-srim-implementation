{
 "metadata": {
  "name": ""
 },
 "nbformat": 3,
 "nbformat_minor": 0,
 "worksheets": [
  {
   "cells": [
    {
     "cell_type": "code",
     "collapsed": false,
     "input": [
      "import pandas as pd\n",
      "db_particle =  pd.read_csv('temp.csv')\n",
      "db_particle.describe()"
     ],
     "language": "python",
     "metadata": {},
     "outputs": [
      {
       "html": [
        "<div style=\"max-height:1000px;max-width:1500px;overflow:auto;\">\n",
        "<table border=\"1\" class=\"dataframe\">\n",
        "  <thead>\n",
        "    <tr style=\"text-align: right;\">\n",
        "      <th></th>\n",
        "      <th>id</th>\n",
        "      <th>x</th>\n",
        "      <th>y</th>\n",
        "      <th>z</th>\n",
        "      <th>u</th>\n",
        "      <th>v</th>\n",
        "      <th>w</th>\n",
        "    </tr>\n",
        "  </thead>\n",
        "  <tbody>\n",
        "    <tr>\n",
        "      <th>count</th>\n",
        "      <td> 2919872.000000</td>\n",
        "      <td> 2919872.000000</td>\n",
        "      <td> 2919872.000000</td>\n",
        "      <td> 2919872.000000</td>\n",
        "      <td> 2919872.000000</td>\n",
        "      <td> 2919872.000000</td>\n",
        "      <td> 2919872.000000</td>\n",
        "    </tr>\n",
        "    <tr>\n",
        "      <th>mean</th>\n",
        "      <td>  360686.226445</td>\n",
        "      <td>      32.911019</td>\n",
        "      <td>      -0.318192</td>\n",
        "      <td>      -1.545330</td>\n",
        "      <td>       0.073559</td>\n",
        "      <td>      -0.001185</td>\n",
        "      <td>      -0.007692</td>\n",
        "    </tr>\n",
        "    <tr>\n",
        "      <th>std</th>\n",
        "      <td>  209622.224725</td>\n",
        "      <td>      18.930786</td>\n",
        "      <td>      25.985290</td>\n",
        "      <td>      27.246288</td>\n",
        "      <td>       3.740198</td>\n",
        "      <td>       3.584660</td>\n",
        "      <td>       3.606134</td>\n",
        "    </tr>\n",
        "    <tr>\n",
        "      <th>min</th>\n",
        "      <td>       0.000000</td>\n",
        "      <td>       0.000000</td>\n",
        "      <td>    -110.389000</td>\n",
        "      <td>    -129.349000</td>\n",
        "      <td>    -157.199000</td>\n",
        "      <td>    -185.060000</td>\n",
        "      <td>    -171.716000</td>\n",
        "    </tr>\n",
        "    <tr>\n",
        "      <th>25%</th>\n",
        "      <td>  179605.750000</td>\n",
        "      <td>      18.425000</td>\n",
        "      <td>     -18.552000</td>\n",
        "      <td>     -20.367000</td>\n",
        "      <td>      -1.141000</td>\n",
        "      <td>      -1.166000</td>\n",
        "      <td>      -1.168000</td>\n",
        "    </tr>\n",
        "    <tr>\n",
        "      <th>50%</th>\n",
        "      <td>  359855.000000</td>\n",
        "      <td>      30.857000</td>\n",
        "      <td>      -0.300000</td>\n",
        "      <td>      -1.840000</td>\n",
        "      <td>       0.050000</td>\n",
        "      <td>       0.000000</td>\n",
        "      <td>      -0.003000</td>\n",
        "    </tr>\n",
        "    <tr>\n",
        "      <th>75%</th>\n",
        "      <td>  539963.000000</td>\n",
        "      <td>      44.980000</td>\n",
        "      <td>      17.922000</td>\n",
        "      <td>      17.216000</td>\n",
        "      <td>       1.191000</td>\n",
        "      <td>       1.167000</td>\n",
        "      <td>       1.163000</td>\n",
        "    </tr>\n",
        "    <tr>\n",
        "      <th>max</th>\n",
        "      <td>  776228.000000</td>\n",
        "      <td>     145.081000</td>\n",
        "      <td>     105.595000</td>\n",
        "      <td>     108.045000</td>\n",
        "      <td>     200.284000</td>\n",
        "      <td>     185.317000</td>\n",
        "      <td>     188.588000</td>\n",
        "    </tr>\n",
        "  </tbody>\n",
        "</table>\n",
        "</div>"
       ],
       "metadata": {},
       "output_type": "pyout",
       "prompt_number": 3,
       "text": [
        "                   id               x               y               z               u               v               w\n",
        "count  2919872.000000  2919872.000000  2919872.000000  2919872.000000  2919872.000000  2919872.000000  2919872.000000\n",
        "mean    360686.226445       32.911019       -0.318192       -1.545330        0.073559       -0.001185       -0.007692\n",
        "std     209622.224725       18.930786       25.985290       27.246288        3.740198        3.584660        3.606134\n",
        "min          0.000000        0.000000     -110.389000     -129.349000     -157.199000     -185.060000     -171.716000\n",
        "25%     179605.750000       18.425000      -18.552000      -20.367000       -1.141000       -1.166000       -1.168000\n",
        "50%     359855.000000       30.857000       -0.300000       -1.840000        0.050000        0.000000       -0.003000\n",
        "75%     539963.000000       44.980000       17.922000       17.216000        1.191000        1.167000        1.163000\n",
        "max     776228.000000      145.081000      105.595000      108.045000      200.284000      185.317000      188.588000"
       ]
      }
     ],
     "prompt_number": 3
    },
    {
     "cell_type": "code",
     "collapsed": false,
     "input": [
      "import numpy as np\n",
      "import matplotlib.pyplot as plt\n",
      " \n",
      "# Create some random numbers\n",
      "x = db_particle['x']\n",
      "y = db_particle['y']\n",
      " \n",
      "# Estimate the 2D histogram\n",
      "nbins = 100\n",
      "H, xedges, yedges = np.histogram2d(x,y,bins=nbins)\n",
      " \n",
      "# H needs to be rotated and flipped\n",
      "H = np.rot90(H)\n",
      "H = np.flipud(H)\n",
      " \n",
      "# Mask zeros\n",
      "Hmasked = np.ma.masked_where(H==0,H) # Mask pixels with a value of zero\n",
      " \n",
      "# Plot 2D histogram using pcolor\n",
      "fig2 = plt.figure()\n",
      "plt.pcolormesh(xedges,yedges,Hmasked)\n",
      "plt.xlabel('x')\n",
      "plt.ylabel('y')\n",
      "cbar = plt.colorbar()\n",
      "cbar.ax.set_ylabel('Counts')\n",
      "plt.show()"
     ],
     "language": "python",
     "metadata": {},
     "outputs": [
      {
       "metadata": {},
       "output_type": "display_data",
       "png": "[encoded data removed]",
       "text": [
        "<matplotlib.figure.Figure at 0x4b17cd0>"
       ]
      }
     ],
     "prompt_number": 2
    },
    {
     "cell_type": "code",
     "collapsed": false,
     "input": [
      "element_table = pd.read_csv('element.csv')\n",
      "#print element_table.Symbol\n",
      "\n",
      "element = 'Ge'\n",
      "\n",
      "for i, symbol in enumerate(element_table['Symbol']):\n",
      "    if (element == symbol):\n",
      "        print element_table.Name[i]\n",
      "        print element_table.Symbol[i]\n",
      "        print element_table.Atomic_Number[i]\n",
      "        print element_table.Atomic_Mass[i]\n"
     ],
     "language": "python",
     "metadata": {},
     "outputs": [
      {
       "output_type": "stream",
       "stream": "stdout",
       "text": [
        "germanium\n",
        "Ge\n",
        "32\n",
        "72.64\n"
       ]
      }
     ],
     "prompt_number": 130
    },
    {
     "cell_type": "code",
     "collapsed": false,
     "input": [],
     "language": "python",
     "metadata": {},
     "outputs": [],
     "prompt_number": 118
    },
    {
     "cell_type": "code",
     "collapsed": false,
     "input": [],
     "language": "python",
     "metadata": {},
     "outputs": []
    }
   ],
   "metadata": {}
  }
 ]
}